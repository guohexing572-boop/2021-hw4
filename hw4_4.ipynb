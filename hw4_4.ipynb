{
 "cells": [
  {
   "metadata": {},
   "cell_type": "markdown",
   "source": "# transformer改成conformer",
   "id": "2bef098956eaff64"
  },
  {
   "metadata": {},
   "cell_type": "markdown",
   "source": "# 下载数据",
   "id": "a72ba65bf2f25b3c"
  },
  {
   "metadata": {},
   "cell_type": "markdown",
   "source": "## https://drive.google.com/file/d/1zHjG3F8msz9LBPhp_N5kp_O6G9F2Y5w9/view?usp=drive_link",
   "id": "529fbf5684c0be88"
  },
  {
   "cell_type": "code",
   "id": "initial_id",
   "metadata": {
    "collapsed": true,
    "ExecuteTime": {
     "end_time": "2025-10-20T07:48:05.619031Z",
     "start_time": "2025-10-20T07:48:05.607769Z"
    }
   },
   "source": [
    "# !gdown --id '1zHjG3F8msz9LBPhp_N5kp_O6G9F2Y5w9' --output Dataset.zip\n",
    "# !unzip Dataset.zip"
   ],
   "outputs": [],
   "execution_count": 1
  },
  {
   "metadata": {},
   "cell_type": "markdown",
   "source": "# 导入包",
   "id": "fc641a49723b68c"
  },
  {
   "metadata": {
    "ExecuteTime": {
     "end_time": "2025-10-20T07:48:10.218424Z",
     "start_time": "2025-10-20T07:48:05.892040Z"
    }
   },
   "cell_type": "code",
   "source": [
    "import os\n",
    "import json\n",
    "import torch\n",
    "import random\n",
    "import math\n",
    "from pathlib import Path\n",
    "from torch.utils.data import Dataset, DataLoader, random_split\n",
    "from torch.nn.utils.rnn import pad_sequence\n",
    "import torch.nn as nn\n",
    "from torch.optim import AdamW\n",
    "from torch.optim.lr_scheduler import LambdaLR\n",
    "from datetime import datetime\n",
    "import matplotlib.pyplot as plt\n"
   ],
   "id": "5033a17ff649028a",
   "outputs": [],
   "execution_count": 2
  },
  {
   "metadata": {},
   "cell_type": "markdown",
   "source": "# 模型",
   "id": "29b72ac9b6e47360"
  },
  {
   "metadata": {
    "ExecuteTime": {
     "end_time": "2025-10-20T07:48:10.225112Z",
     "start_time": "2025-10-20T07:48:10.218424Z"
    }
   },
   "cell_type": "code",
   "source": [
    "class Classifier(nn.Module):\n",
    "  def __init__(self, d_model=80, n_spks=600, dropout=0.1):\n",
    "    \"\"\"初始化分类器模型\n",
    "    \n",
    "    Args:\n",
    "        d_model (int): 模型的特征维度，默认为80\n",
    "        n_spks (int): 说话人数量，默认为600\n",
    "        dropout (float): dropout率，默认为0.1\n",
    "    \"\"\"\n",
    "    super().__init__()\n",
    "    \n",
    "    # 将输入特征的维度从40投影到d_model\n",
    "    # 输入: (batch_size, length, 40) -> 输出: (batch_size, length, d_model)\n",
    "    self.prenet = nn.Linear(40, d_model)\n",
    "    \n",
    "    # TODO: 将Transformer改为Conformer\n",
    "    # 参考论文: https://arxiv.org/abs/2005.08100\n",
    "    # Conformer结合了CNN和Transformer的优点，在语音任务上表现更好\n",
    "    \n",
    "    # 当前使用Transformer编码层\n",
    "    self.encoder_layer = nn.TransformerEncoderLayer(\n",
    "      d_model=d_model,        # 特征维度\n",
    "      dim_feedforward=256,    # 前馈网络的隐藏层维度\n",
    "      nhead=2                 # 注意力头数\n",
    "    )\n",
    "    # 如果需要多层，可以使用TransformerEncoder\n",
    "    # self.encoder = nn.TransformerEncoder(self.encoder_layer, num_layers=2)\n",
    "\n",
    "    # 预测层：将d_model维特征映射到说话人数量\n",
    "    self.pred_layer = nn.Sequential(\n",
    "      nn.Linear(d_model, d_model),  # 线性变换\n",
    "      nn.ReLU(),                    # 激活函数\n",
    "      nn.Linear(d_model, n_spks),   # 输出层，输出每个说话人的分数\n",
    "    )\n",
    "\n",
    "  def forward(self, mels):\n",
    "    \"\"\"\n",
    "    前向传播\n",
    "    \n",
    "    Args:\n",
    "      mels: 输入mel频谱图，形状为 (batch_size, length, 40)\n",
    "      \n",
    "    Return:\n",
    "      out: 输出说话人分类结果，形状为 (batch_size, n_spks)\n",
    "    \"\"\"\n",
    "    # 输入投影: (batch_size, length, 40) -> (batch_size, length, d_model)\n",
    "    out = self.prenet(mels)\n",
    "    \n",
    "    # 调整维度以适应Transformer输入要求\n",
    "    # (batch_size, length, d_model) -> (length, batch_size, d_model)\n",
    "    out = out.permute(1, 0, 2)\n",
    "    \n",
    "    # Transformer编码层期望输入形状为 (length, batch_size, d_model)\n",
    "    out = self.encoder_layer(out)\n",
    "    \n",
    "    # 恢复维度: (length, batch_size, d_model) -> (batch_size, length, d_model)\n",
    "    out = out.transpose(0, 1)\n",
    "    \n",
    "    # 均值池化：沿时间维度求平均\n",
    "    # (batch_size, length, d_model) -> (batch_size, d_model)\n",
    "    stats = out.mean(dim=1)\n",
    "\n",
    "    # 通过预测层得到最终分类结果\n",
    "    # (batch_size, d_model) -> (batch_size, n_spks)\n",
    "    out = self.pred_layer(stats)\n",
    "    \n",
    "    return out"
   ],
   "id": "3d89dc28e8e5996",
   "outputs": [],
   "execution_count": 3
  },
  {
   "metadata": {
    "ExecuteTime": {
     "end_time": "2025-10-20T07:48:10.231423Z",
     "start_time": "2025-10-20T07:48:10.225112Z"
    }
   },
   "cell_type": "code",
   "source": [
    "class SpeakerClassifier(nn.Module):\n",
    "    def __init__(self, d_model=80, n_spks=600, dropout=0.1):\n",
    "        \"\"\"说话人分类模型\n",
    "        \n",
    "        Args:\n",
    "            d_model (int): 模型特征维度\n",
    "            n_spks (int): 说话人数量\n",
    "            dropout (float): dropout比率\n",
    "        \"\"\"\n",
    "        super().__init__()\n",
    "        \n",
    "        # 输入投影层: 40维mel特征 -> d_model维\n",
    "        self.prenet = nn.Linear(40, d_model)\n",
    "        \n",
    "        # Transformer编码层\n",
    "        self.encoder_layer = nn.TransformerEncoderLayer(\n",
    "            d_model=d_model,\n",
    "            dim_feedforward=256,\n",
    "            nhead=2,\n",
    "            dropout=dropout,\n",
    "            batch_first=False  # Transformer需要序列维度在前\n",
    "        )\n",
    "        \n",
    "        # 分类器\n",
    "        self.classifier = nn.Sequential(\n",
    "            nn.Linear(d_model, d_model),\n",
    "            nn.ReLU(),\n",
    "            nn.Dropout(dropout),\n",
    "            nn.Linear(d_model, n_spks),\n",
    "        )\n",
    "\n",
    "    def forward(self, mels):\n",
    "        \"\"\"前向传播\n",
    "        \n",
    "        Args:\n",
    "            mels: mel频谱图, shape: (batch, seq_len, 40)\n",
    "            \n",
    "        Returns:\n",
    "            说话人分类logits, shape: (batch, n_spks)\n",
    "        \"\"\"\n",
    "        # 输入投影\n",
    "        x = self.prenet(mels)  # (batch, seq_len, d_model)\n",
    "        \n",
    "        # 调整维度适应Transformer: (seq_len, batch, d_model)\n",
    "        x = x.transpose(0, 1)\n",
    "        \n",
    "        # Transformer编码\n",
    "        x = self.encoder_layer(x)  # (seq_len, batch, d_model)\n",
    "        \n",
    "        # 恢复维度: (batch, seq_len, d_model)\n",
    "        x = x.transpose(0, 1)\n",
    "        \n",
    "        # 全局平均池化\n",
    "        x = x.mean(dim=1)  # (batch, d_model)\n",
    "        \n",
    "        # 分类\n",
    "        out = self.classifier(x)  # (batch, n_spks)\n",
    "        \n",
    "        return out"
   ],
   "id": "eb96fde9d3a4cf6b",
   "outputs": [],
   "execution_count": 4
  },
  {
   "metadata": {},
   "cell_type": "markdown",
   "source": "## 创建模型的函数",
   "id": "3ee4f0fd41d54257"
  },
  {
   "metadata": {
    "ExecuteTime": {
     "end_time": "2025-10-20T07:48:10.236439Z",
     "start_time": "2025-10-20T07:48:10.233435Z"
    }
   },
   "cell_type": "code",
   "source": [
    "def get_Classifier(d_model=80, n_spks=600, dropout=0.1):\n",
    "    \"\"\"创建适配512×512的ResNet-18模型\"\"\"\n",
    "    return Classifier(d_model=d_model, n_spks=n_spks, dropout=dropout)"
   ],
   "id": "206aa08638c6c64b",
   "outputs": [],
   "execution_count": 5
  },
  {
   "metadata": {},
   "cell_type": "markdown",
   "source": "# 添加工具函数",
   "id": "4f618936faff1327"
  },
  {
   "metadata": {},
   "cell_type": "markdown",
   "source": "## 绘制训练和损失曲线",
   "id": "d9a122d1d233ad37"
  },
  {
   "metadata": {
    "ExecuteTime": {
     "end_time": "2025-10-20T07:48:10.241090Z",
     "start_time": "2025-10-20T07:48:10.236439Z"
    }
   },
   "cell_type": "code",
   "source": [
    "def plot_loss_curves(train_losses, val_losses, save_path=None):\n",
    "    \"\"\"绘制训练和验证损失曲线\"\"\"\n",
    "    plt.figure(figsize=(10, 6))\n",
    "    plt.plot(train_losses, label='训练损失', linewidth=2)\n",
    "    plt.plot(val_losses, label='验证损失', linewidth=2)\n",
    "    plt.xlabel('Epoch')\n",
    "    plt.ylabel('Loss')\n",
    "    plt.title('训练和验证损失曲线')\n",
    "    plt.legend()\n",
    "    plt.grid(True, alpha=0.3)\n",
    "\n",
    "    if save_path:\n",
    "        plt.savefig(save_path, dpi=300, bbox_inches='tight')\n",
    "        print(f\"图片已保存到: {save_path}\")"
   ],
   "id": "f190f1170f925e8b",
   "outputs": [],
   "execution_count": 6
  },
  {
   "metadata": {},
   "cell_type": "markdown",
   "source": "## 绘制训练准确率曲线",
   "id": "b0ddbd7073732a4b"
  },
  {
   "metadata": {
    "ExecuteTime": {
     "end_time": "2025-10-20T07:48:11.287406Z",
     "start_time": "2025-10-20T07:48:11.277516Z"
    }
   },
   "cell_type": "code",
   "source": [
    "def plot_accuracy_curves(train_accuracies, val_accuracies, save_path=None):\n",
    "    \"\"\"绘制准确率曲线\"\"\"\n",
    "    plt.figure(figsize=(10, 6))\n",
    "    epochs = range(1, len(train_accuracies) + 1)\n",
    "\n",
    "    plt.plot(epochs, train_accuracies, 'b-', label='训练准确率', linewidth=2)\n",
    "    plt.plot(epochs, val_accuracies, 'r-', label='验证准确率', linewidth=2)\n",
    "\n",
    "    plt.title('训练和验证准确率', fontsize=14, fontweight='bold')\n",
    "    plt.xlabel('Epochs', fontsize=12)\n",
    "    plt.ylabel('Accuracy (%)', fontsize=12)\n",
    "    plt.legend(fontsize=12)\n",
    "    plt.grid(True, alpha=0.3)\n",
    "    plt.ylim(bottom=0)\n",
    "\n",
    "    # 添加最佳准确率标注\n",
    "    best_val_acc = max(val_accuracies)\n",
    "    best_epoch = val_accuracies.index(best_val_acc) + 1\n",
    "    plt.axvline(x=best_epoch, color='gray', linestyle='--', alpha=0.7)\n",
    "    plt.text(best_epoch, best_val_acc / 2, f'最佳: {best_val_acc:.2f}%\\nEpoch: {best_epoch}',\n",
    "             ha='center', va='center', fontsize=10, \n",
    "             bbox=dict(boxstyle=\"round,pad=0.3\", facecolor=\"white\", alpha=0.8))\n",
    "\n",
    "    plt.tight_layout()\n",
    "\n",
    "    if save_path:\n",
    "        plt.savefig(save_path, dpi=300, bbox_inches='tight')\n",
    "        plt.close()\n",
    "    else:\n",
    "        plt.show()"
   ],
   "id": "419394b926cabc06",
   "outputs": [],
   "execution_count": 7
  },
  {
   "metadata": {},
   "cell_type": "markdown",
   "source": "## 绘制综合曲线",
   "id": "a93b32ac6ded3478"
  },
  {
   "metadata": {
    "ExecuteTime": {
     "end_time": "2025-10-20T07:48:11.905549Z",
     "start_time": "2025-10-20T07:48:11.897862Z"
    }
   },
   "cell_type": "code",
   "source": [
    "def plot_training_curves(train_losses, val_losses, train_accuracies, val_accuracies, save_path=None):\n",
    "    \"\"\"绘制综合训练曲线\"\"\"\n",
    "    fig, (ax1, ax2) = plt.subplots(2, 1, figsize=(12, 10))\n",
    "    epochs = range(1, len(train_losses) + 1)\n",
    "\n",
    "    # 绘制损失曲线\n",
    "    ax1.plot(epochs, train_losses, 'b-', label='训练损失', linewidth=2)\n",
    "    ax1.plot(epochs, val_losses, 'r-', label='验证损失', linewidth=2)\n",
    "    ax1.set_title('训练和验证损失', fontsize=14, fontweight='bold')\n",
    "    ax1.set_ylabel('Loss', fontsize=12)\n",
    "    ax1.legend(fontsize=12)\n",
    "    ax1.grid(True, alpha=0.3)\n",
    "\n",
    "    # 绘制准确率曲线\n",
    "    ax2.plot(epochs, train_accuracies, 'b-', label='训练准确率', linewidth=2)\n",
    "    ax2.plot(epochs, val_accuracies, 'r-', label='验证准确率', linewidth=2)\n",
    "    ax2.set_title('训练和验证准确率', fontsize=14, fontweight='bold')\n",
    "    ax2.set_xlabel('Epochs', fontsize=12)\n",
    "    ax2.set_ylabel('Accuracy (%)', fontsize=12)\n",
    "    ax2.legend(fontsize=12)\n",
    "    ax2.grid(True, alpha=0.3)\n",
    "    ax2.set_ylim(bottom=0)\n",
    "\n",
    "    # 添加最佳准确率标注\n",
    "    best_val_acc = max(val_accuracies)\n",
    "    best_epoch = val_accuracies.index(best_val_acc) + 1\n",
    "    ax2.axvline(x=best_epoch, color='gray', linestyle='--', alpha=0.7)\n",
    "    ax2.text(best_epoch, best_val_acc / 2, f'最佳: {best_val_acc:.2f}%',\n",
    "             ha='center', va='center', fontsize=10,\n",
    "             bbox=dict(boxstyle=\"round,pad=0.3\", facecolor=\"white\", alpha=0.8))\n",
    "\n",
    "    plt.tight_layout()\n",
    "\n",
    "    if save_path:\n",
    "        plt.savefig(save_path, dpi=300, bbox_inches='tight')\n",
    "        plt.close()\n",
    "    else:\n",
    "        plt.show()"
   ],
   "id": "e9547787718fbc52",
   "outputs": [],
   "execution_count": 8
  },
  {
   "metadata": {},
   "cell_type": "markdown",
   "source": "# dataset",
   "id": "1e0443f045d55a2c"
  },
  {
   "metadata": {
    "ExecuteTime": {
     "end_time": "2025-10-20T07:48:13.574866Z",
     "start_time": "2025-10-20T07:48:13.564900Z"
    }
   },
   "cell_type": "code",
   "source": [
    "class SpeakerDataset(Dataset):\n",
    "    def __init__(self, data_dir, segment_len=128):\n",
    "        \"\"\"初始化说话人数据集\n",
    "        \n",
    "        Args:\n",
    "            data_dir (str): 数据目录路径\n",
    "            segment_len (int): 每个语音片段的帧数，默认为128\n",
    "        \"\"\"\n",
    "        self.data_dir = data_dir\n",
    "        self.segment_len = segment_len\n",
    "\n",
    "        # 加载说话人映射关系\n",
    "        mapping_path = Path(data_dir) / \"mapping.json\"\n",
    "        mapping = json.load(mapping_path.open())\n",
    "        self.speaker2id = mapping[\"speaker2id\"]\n",
    "\n",
    "        # 加载元数据\n",
    "        metadata_path = Path(data_dir) / \"metadata.json\"\n",
    "        metadata = json.load(open(metadata_path))[\"speakers\"]\n",
    "\n",
    "        # 获取说话人总数\n",
    "        self.speaker_num = len(metadata.keys())\n",
    "        self.data = []\n",
    "        \n",
    "        # 构建数据列表: [特征路径, 说话人ID]\n",
    "        for speaker in metadata.keys():\n",
    "            for utterances in metadata[speaker]:\n",
    "                self.data.append([utterances[\"feature_path\"], self.speaker2id[speaker]])\n",
    "\n",
    "    def __len__(self):\n",
    "        \"\"\"返回数据集大小\"\"\"\n",
    "        return len(self.data)\n",
    "\n",
    "    def __getitem__(self, index):\n",
    "        \"\"\"获取单个样本\"\"\"\n",
    "        feat_path, speaker = self.data[index]\n",
    "        \n",
    "        # 加载mel频谱特征\n",
    "        mel = torch.load(os.path.join(self.data_dir, feat_path))\n",
    "\n",
    "        # 随机截取固定长度的片段\n",
    "        if len(mel) > self.segment_len:\n",
    "            start = random.randint(0, len(mel) - self.segment_len)\n",
    "            mel = torch.FloatTensor(mel[start:start+self.segment_len])\n",
    "        else:\n",
    "            mel = torch.FloatTensor(mel)\n",
    "            \n",
    "        speaker = torch.LongTensor([speaker]).squeeze()\n",
    "        \n",
    "        return mel, speaker\n",
    "\n",
    "    def get_speaker_number(self):\n",
    "        \"\"\"返回说话人数量\"\"\"\n",
    "        return self.speaker_num\n"
   ],
   "id": "a5a47a7273faaa31",
   "outputs": [],
   "execution_count": 9
  },
  {
   "metadata": {},
   "cell_type": "markdown",
   "source": "# dataloader",
   "id": "2267ee73c6b72b85"
  },
  {
   "metadata": {
    "ExecuteTime": {
     "end_time": "2025-10-20T07:48:14.818364Z",
     "start_time": "2025-10-20T07:48:14.813056Z"
    }
   },
   "cell_type": "code",
   "source": [
    "import torch\n",
    "from torch.utils.data import DataLoader, random_split\n",
    "from torch.nn.utils.rnn import pad_sequence\n",
    "\n",
    "\n",
    "def collate_batch(batch):\n",
    "  \"\"\"处理一个批次的数据\n",
    "  \n",
    "  将同一个批次中的特征进行填充，使它们的长度相同\n",
    "  \n",
    "  Args:\n",
    "      batch: 一个批次的数据，包含mel频谱图和说话人ID\n",
    "  \n",
    "  Returns:\n",
    "      tuple: 填充后的mel频谱图和说话人ID张量\n",
    "  \"\"\"\n",
    "  # 将批次数据解包为mel频谱图和说话人ID\n",
    "  mel, speaker = zip(*batch)\n",
    "  \n",
    "  # 对同一个批次中的mel频谱图进行填充，使它们长度相同\n",
    "  # 使用-20进行填充，对应log10^(-20)，这是一个非常小的值（接近0）\n",
    "  mel = pad_sequence(mel, batch_first=True, padding_value=-20)\n",
    "  \n",
    "  # mel的形状: (批次大小, 序列长度, 40个mel频带)\n",
    "  return mel, torch.FloatTensor(speaker).long()\n",
    "\n",
    "\n",
    "def get_dataloader(data_dir, batch_size, n_workers):\n",
    "  \"\"\"生成数据加载器\n",
    "  \n",
    "  Args:\n",
    "      data_dir (str): 数据目录路径\n",
    "      batch_size (int): 批次大小\n",
    "      n_workers (int): 数据加载的工作进程数\n",
    "  \n",
    "  Returns:\n",
    "      tuple: 训练数据加载器、验证数据加载器、说话人数量\n",
    "  \"\"\"\n",
    "  # 创建数据集实例\n",
    "  dataset = SpeakerDataset(data_dir)\n",
    "  \n",
    "  # 获取数据集中说话人的总数\n",
    "  speaker_num = dataset.get_speaker_number()\n",
    "  \n",
    "  # 将数据集按9:1的比例分割为训练集和验证集\n",
    "  trainlen = int(0.9 * len(dataset))  # 90% 训练集\n",
    "  lengths = [trainlen, len(dataset) - trainlen]  # 训练集和验证集的大小\n",
    "  trainset, validset = random_split(dataset, lengths)  # 随机分割\n",
    "\n",
    "  # 创建训练数据加载器\n",
    "  train_loader = DataLoader(\n",
    "    trainset,                    # 训练数据集\n",
    "    batch_size=batch_size,       # 批次大小\n",
    "    shuffle=True,                # 每个epoch打乱数据\n",
    "    drop_last=True,              # 丢弃最后一个不完整的批次\n",
    "    num_workers=n_workers,       # 数据加载的工作进程数\n",
    "    pin_memory=True,             # 将数据固定在内存中，加速GPU传输\n",
    "    collate_fn=collate_batch,    # 自定义批次处理函数\n",
    "  )\n",
    "  \n",
    "  # 创建验证数据加载器\n",
    "  valid_loader = DataLoader(\n",
    "    validset,                    # 验证数据集\n",
    "    batch_size=batch_size,       # 批次大小\n",
    "    num_workers=n_workers,       # 数据加载的工作进程数\n",
    "    drop_last=True,              # 丢弃最后一个不完整的批次\n",
    "    pin_memory=True,             # 将数据固定在内存中，加速GPU传输\n",
    "    collate_fn=collate_batch,    # 自定义批次处理函数\n",
    "  )\n",
    "\n",
    "  return train_loader, valid_loader, speaker_num"
   ],
   "id": "4c52a417d37de29b",
   "outputs": [],
   "execution_count": 10
  },
  {
   "metadata": {},
   "cell_type": "markdown",
   "source": "# 学习率",
   "id": "efe6c8cd9a984539"
  },
  {
   "metadata": {
    "ExecuteTime": {
     "end_time": "2025-10-20T07:48:15.888431Z",
     "start_time": "2025-10-20T07:48:15.877935Z"
    }
   },
   "cell_type": "code",
   "source": [
    "import math\n",
    "import torch\n",
    "from torch.optim import Optimizer\n",
    "from torch.optim.lr_scheduler import LambdaLR\n",
    "\n",
    "def get_cosine_schedule_with_warmup(optimizer, num_warmup_steps, num_training_steps, num_cycles=0.5):\n",
    "    \"\"\"带热身阶段的余弦退火学习率调度器\n",
    "    \n",
    "    Args:\n",
    "        optimizer: 优化器\n",
    "        num_warmup_steps: 热身步数\n",
    "        num_training_steps: 总训练步数\n",
    "        num_cycles: 余弦周期数\n",
    "        \n",
    "    Returns:\n",
    "        学习率调度器\n",
    "    \"\"\"\n",
    "    def lr_lambda(current_step):\n",
    "        if current_step < num_warmup_steps:\n",
    "            # 线性热身\n",
    "            return float(current_step) / float(max(1, num_warmup_steps))\n",
    "        else:\n",
    "            # 余弦退火\n",
    "            progress = float(current_step - num_warmup_steps) / float(max(1, num_training_steps - num_warmup_steps))\n",
    "            return max(0.0, 0.5 * (1.0 + math.cos(math.pi * float(num_cycles) * 2.0 * progress)))\n",
    "    \n",
    "    return LambdaLR(optimizer, lr_lambda)"
   ],
   "id": "5246d8f873aaaa77",
   "outputs": [],
   "execution_count": 11
  },
  {
   "metadata": {
    "ExecuteTime": {
     "end_time": "2025-10-20T07:48:17.479806Z",
     "start_time": "2025-10-20T07:48:17.471906Z"
    }
   },
   "cell_type": "code",
   "source": [
    "def model_fn(batch, model, criterion, device):\n",
    "    \"\"\"单个批次的前向传播\n",
    "    \n",
    "    Args:\n",
    "        batch: 数据批次\n",
    "        model: 模型\n",
    "        criterion: 损失函数\n",
    "        device: 计算设备\n",
    "        \n",
    "    Returns:\n",
    "        tuple: (损失, 准确率)\n",
    "    \"\"\"\n",
    "    mels, labels = batch\n",
    "    mels = mels.to(device)\n",
    "    labels = labels.to(device)\n",
    "\n",
    "    # 前向传播\n",
    "    outputs = model(mels)\n",
    "    \n",
    "    # 计算损失和准确率\n",
    "    loss = criterion(outputs, labels)\n",
    "    preds = outputs.argmax(dim=1)\n",
    "    accuracy = (preds == labels).float().mean()\n",
    "    \n",
    "    return loss, accuracy"
   ],
   "id": "258f4954a882ea3b",
   "outputs": [],
   "execution_count": 12
  },
  {
   "metadata": {
    "ExecuteTime": {
     "end_time": "2025-10-20T07:48:18.307717Z",
     "start_time": "2025-10-20T07:48:18.299676Z"
    }
   },
   "cell_type": "code",
   "source": [
    "def validate(dataloader, model, criterion, device):\n",
    "    \"\"\"在验证集上评估模型\n",
    "    \n",
    "    Args:\n",
    "        dataloader: 验证数据加载器\n",
    "        model: 模型\n",
    "        criterion: 损失函数\n",
    "        device: 计算设备\n",
    "        \n",
    "    Returns:\n",
    "        tuple: (平均损失, 平均准确率)\n",
    "    \"\"\"\n",
    "    model.eval()\n",
    "    total_loss = 0.0\n",
    "    total_accuracy = 0.0\n",
    "    num_batches = len(dataloader)\n",
    "    \n",
    "    with torch.no_grad():\n",
    "        for batch in dataloader:\n",
    "            loss, accuracy = model_fn(batch, model, criterion, device)\n",
    "            total_loss += loss.item()\n",
    "            total_accuracy += accuracy.item()\n",
    "    \n",
    "    model.train()\n",
    "    \n",
    "    return total_loss / num_batches, total_accuracy / num_batches\n"
   ],
   "id": "5cfda07c6fbfcf5e",
   "outputs": [],
   "execution_count": 13
  },
  {
   "metadata": {
    "ExecuteTime": {
     "end_time": "2025-10-20T07:48:21.728383Z",
     "start_time": "2025-10-20T07:48:21.717760Z"
    }
   },
   "cell_type": "code",
   "source": [
    "# 配置参数\n",
    "data_dir = \"./Dataset\"\n",
    "batch_size = 32\n",
    "n_workers = 4\n",
    "valid_steps = 2000\n",
    "warmup_steps = 1000\n",
    "save_steps = 10000\n",
    "total_steps = 70000\n",
    "max_epochs = 100"
   ],
   "id": "235ab66f5269bde",
   "outputs": [],
   "execution_count": 14
  },
  {
   "metadata": {
    "ExecuteTime": {
     "end_time": "2025-10-20T07:48:22.014440Z",
     "start_time": "2025-10-20T07:48:22.009608Z"
    }
   },
   "cell_type": "code",
   "source": [
    "# 创建保存目录\n",
    "now_time = datetime.now()\n",
    "time_str = datetime.strftime(now_time, '%m-%d_%H-%M')\n",
    "log_dir = os.path.join(\"./results\", time_str)\n",
    "os.makedirs(log_dir, exist_ok=True)\n",
    "print(f\"结果保存目录: {log_dir}\")"
   ],
   "id": "e5d46d2010da89bc",
   "outputs": [
    {
     "name": "stdout",
     "output_type": "stream",
     "text": [
      "结果保存目录: ./results\\10-20_15-48\n"
     ]
    }
   ],
   "execution_count": 15
  },
  {
   "metadata": {
    "ExecuteTime": {
     "end_time": "2025-10-20T07:48:23.116212Z",
     "start_time": "2025-10-20T07:48:23.107652Z"
    }
   },
   "cell_type": "code",
   "source": [
    "# 设备设置\n",
    "device = torch.device(\"cuda\" if torch.cuda.is_available() else \"cpu\")\n",
    "print(f\"使用设备: {device}\")"
   ],
   "id": "dbea286802f9a7a5",
   "outputs": [
    {
     "name": "stdout",
     "output_type": "stream",
     "text": [
      "使用设备: cpu\n"
     ]
    }
   ],
   "execution_count": 16
  },
  {
   "metadata": {
    "ExecuteTime": {
     "end_time": "2025-10-20T07:48:23.533792Z",
     "start_time": "2025-10-20T07:48:23.347863Z"
    }
   },
   "cell_type": "code",
   "source": [
    "# 数据加载\n",
    "train_loader, val_loader, speaker_num = get_dataloader(data_dir, batch_size, n_workers)\n",
    "print(f\"完成数据加载! 说话人数量: {speaker_num}\")"
   ],
   "id": "2bd28cb8359f307f",
   "outputs": [
    {
     "name": "stdout",
     "output_type": "stream",
     "text": [
      "完成数据加载! 说话人数量: 600\n"
     ]
    }
   ],
   "execution_count": 17
  },
  {
   "metadata": {
    "ExecuteTime": {
     "end_time": "2025-10-20T07:48:28.006878Z",
     "start_time": "2025-10-20T07:48:25.957733Z"
    }
   },
   "cell_type": "code",
   "source": [
    "# 模型初始化\n",
    "model = Classifier(n_spks=speaker_num).to(device)\n",
    "criterion = nn.CrossEntropyLoss()\n",
    "optimizer = AdamW(model.parameters(), lr=1e-3)\n",
    "scheduler = get_cosine_schedule_with_warmup(optimizer, warmup_steps, total_steps)\n",
    "print(\"完成模型创建!\")"
   ],
   "id": "1a53b1774bdb27c6",
   "outputs": [
    {
     "name": "stdout",
     "output_type": "stream",
     "text": [
      "完成模型创建!\n"
     ]
    }
   ],
   "execution_count": 18
  },
  {
   "metadata": {
    "ExecuteTime": {
     "end_time": "2025-10-20T07:48:31.612746Z",
     "start_time": "2025-10-20T07:48:31.608022Z"
    }
   },
   "cell_type": "code",
   "source": [
    "# 训练状态记录\n",
    "train_losses = []\n",
    "val_losses = []\n",
    "train_accuracies = []\n",
    "val_accuracies = []\n",
    "learning_rates = []\n",
    "max_epoch = 50\n",
    "\n",
    "best_val_accuracy = 0.0\n",
    "best_state_dict = None"
   ],
   "id": "ebd71919860aa048",
   "outputs": [],
   "execution_count": 19
  },
  {
   "metadata": {
    "jupyter": {
     "is_executing": true
    },
    "ExecuteTime": {
     "start_time": "2025-10-20T07:48:31.637787Z"
    }
   },
   "cell_type": "code",
   "source": [
    "# 改为epoch-based训练循环\n",
    "model.train()\n",
    "\n",
    "print(\"开始训练...\")\n",
    "start_time = datetime.now()\n",
    "\n",
    "best_epoch = 0\n",
    "\n",
    "# 计算总步数用于学习率调度\n",
    "total_steps = max_epochs * len(train_loader)\n",
    "\n",
    "for epoch in range(max_epochs):\n",
    "    # 训练阶段\n",
    "    model.train()\n",
    "    epoch_train_loss = 0.0\n",
    "    epoch_train_accuracy = 0.0\n",
    "    num_batches = len(train_loader)\n",
    "    \n",
    "    print(f\"\\n--- Epoch {epoch+1}/{max_epochs} ---\")\n",
    "    \n",
    "    for batch_idx, batch in enumerate(train_loader):\n",
    "        # 前向传播和反向传播\n",
    "        train_loss, train_accuracy = model_fn(batch, model, criterion, device)\n",
    "        \n",
    "        optimizer.zero_grad()\n",
    "        train_loss.backward()\n",
    "        optimizer.step()\n",
    "        scheduler.step()\n",
    "        \n",
    "        # 累计epoch指标\n",
    "        epoch_train_loss += train_loss.item()\n",
    "        epoch_train_accuracy += train_accuracy.item()\n",
    "        \n",
    "        # 记录每一步的训练指标\n",
    "        train_losses.append(train_loss.item())\n",
    "        train_accuracies.append(train_accuracy.item())\n",
    "        current_lr = scheduler.get_last_lr()[0]\n",
    "        learning_rates.append(current_lr)\n",
    "        \n",
    "        # 每100个batch打印一次进度\n",
    "        if (batch_idx + 1) % 100 == 0:\n",
    "            elapsed_time = (datetime.now() - start_time).total_seconds()\n",
    "            print(f\"Epoch {epoch+1} | Batch {batch_idx+1}/{num_batches} | \"\n",
    "                  f\"当前损失: {train_loss.item():.4f} | \"\n",
    "                  f\"当前准确率: {train_accuracy.item():.4f} | \"\n",
    "                  f\"学习率: {current_lr:.2e}\")\n",
    "    \n",
    "    # 计算epoch平均训练指标\n",
    "    avg_train_loss = epoch_train_loss / num_batches\n",
    "    avg_train_accuracy = epoch_train_accuracy / num_batches\n",
    "    \n",
    "    # 验证阶段\n",
    "    val_loss, val_accuracy = validate(val_loader, model, criterion, device)\n",
    "    val_losses.append(val_loss)\n",
    "    val_accuracies.append(val_accuracy)\n",
    "    \n",
    "    # 计算已用时间\n",
    "    elapsed_time = (datetime.now() - start_time).total_seconds()\n",
    "    elapsed_minutes = elapsed_time / 60\n",
    "    \n",
    "    print(f\"\\nEpoch {epoch+1} 结果:\")\n",
    "    print(f\"训练损失: {avg_train_loss:.4f} | 训练准确率: {avg_train_accuracy:.4f}\")\n",
    "    print(f\"验证损失: {val_loss:.4f} | 验证准确率: {val_accuracy:.4f}\")\n",
    "    print(f\"学习率: {current_lr:.2e} | 已用时间: {elapsed_minutes:.1f}分钟\")\n",
    "    \n",
    "    # 更新最佳模型\n",
    "    if val_accuracy > best_val_accuracy:\n",
    "        best_val_accuracy = val_accuracy\n",
    "        best_epoch = epoch + 1\n",
    "        best_state_dict = model.state_dict().copy()\n",
    "        \n",
    "        # 保存最佳模型\n",
    "        model_path = os.path.join(log_dir, f\"best_model_epoch{epoch+1}_acc{best_val_accuracy:.4f}.pth\")\n",
    "        torch.save({\n",
    "            'model_state_dict': best_state_dict,\n",
    "            'val_accuracy': best_val_accuracy,\n",
    "            'epoch': epoch + 1\n",
    "        }, model_path)\n",
    "        print(f\"✅ 保存最佳模型! Epoch {epoch+1}, 验证准确率: {best_val_accuracy:.4f}\")\n",
    "    \n",
    "    # 每5个epoch保存一次检查点\n",
    "    if (epoch + 1) % 5 == 0 and best_state_dict is not None:\n",
    "        checkpoint_path = os.path.join(log_dir, f\"checkpoint_epoch_{epoch+1}.pth\")\n",
    "        torch.save({\n",
    "            'model_state_dict': best_state_dict,\n",
    "            'optimizer_state_dict': optimizer.state_dict(),\n",
    "            'scheduler_state_dict': scheduler.state_dict(),\n",
    "            'epoch': epoch + 1,\n",
    "            'best_val_accuracy': best_val_accuracy\n",
    "        }, checkpoint_path)\n",
    "        print(f\"💾 保存检查点: {checkpoint_path}\")\n",
    "    \n",
    "    # 早停检查（可选）\n",
    "    if epoch + 1 - best_epoch > 10:  # 如果连续10个epoch没有提升\n",
    "        print(f\"🚨 早停触发! 最佳准确率 {best_val_accuracy:.4f} 在 Epoch {best_epoch}\")\n",
    "        break\n",
    "\n",
    "# 训练完成\n",
    "total_time = (datetime.now() - start_time).total_seconds()\n",
    "print(f\"\\n🎉 训练完成!\")\n",
    "print(f\"总用时: {total_time/60:.1f}分钟\")\n",
    "print(f\"总epoch数: {epoch + 1}\")\n",
    "print(f\"最佳验证准确率: {best_val_accuracy:.4f} (Epoch {best_epoch})\")\n",
    "\n",
    "# 保存最终的最佳模型\n",
    "if best_state_dict is not None:\n",
    "    final_model_path = os.path.join(log_dir, \"final_best_model.pth\")\n",
    "    torch.save(best_state_dict, final_model_path)\n",
    "    print(f\"最终模型已保存: {final_model_path}\")"
   ],
   "id": "29054b8442370f5e",
   "outputs": [
    {
     "name": "stdout",
     "output_type": "stream",
     "text": [
      "开始训练...\n",
      "\n",
      "--- Epoch 1/100 ---\n"
     ]
    }
   ],
   "execution_count": null
  },
  {
   "metadata": {},
   "cell_type": "code",
   "outputs": [],
   "execution_count": null,
   "source": [
    "# 保存训练历史\n",
    "training_history = {\n",
    "    'train_losses': train_losses,\n",
    "    'val_losses': val_losses,\n",
    "    'train_accuracies': train_accuracies,\n",
    "    'val_accuracies': val_accuracies,\n",
    "    'learning_rates': learning_rates,\n",
    "    'best_val_accuracy': best_val_accuracy,\n",
    "    'best_epoch': len(val_accuracies) - 1\n",
    "}\n",
    "\n",
    "# 保存训练记录\n",
    "log_path = os.path.join(log_dir, \"training_history.pth\")\n",
    "torch.save(training_history, log_path)\n",
    "print(f\"训练记录已保存: {log_path}\")"
   ],
   "id": "5e4f7640bb35425a"
  },
  {
   "metadata": {},
   "cell_type": "code",
   "outputs": [],
   "execution_count": null,
   "source": [
    "# 绘制训练曲线\n",
    "print(\"开始绘制训练曲线...\")\n",
    "\n",
    "picture_path_loss = os.path.join(log_dir, 'loss_curves.png')\n",
    "picture_path_acc = os.path.join(log_dir, 'accuracy_curves.png')\n",
    "picture_path_combined = os.path.join(log_dir, 'training_curves.png')\n",
    "picture_path_lr = os.path.join(log_dir, 'learning_rate.png')\n",
    "\n",
    "plot_loss_curves(train_losses, val_losses, picture_path_loss)\n",
    "plot_accuracy_curves(train_accuracies, val_accuracies, picture_path_acc)\n",
    "plot_training_curves(train_losses, val_losses, train_accuracies, val_accuracies, picture_path_combined)\n",
    "print(f\"所有训练曲线已保存至: {log_dir}\")"
   ],
   "id": "ad2a5938a04f55bd"
  }
 ],
 "metadata": {
  "kernelspec": {
   "display_name": "Python 3",
   "language": "python",
   "name": "python3"
  },
  "language_info": {
   "codemirror_mode": {
    "name": "ipython",
    "version": 2
   },
   "file_extension": ".py",
   "mimetype": "text/x-python",
   "name": "python",
   "nbconvert_exporter": "python",
   "pygments_lexer": "ipython2",
   "version": "2.7.6"
  }
 },
 "nbformat": 4,
 "nbformat_minor": 5
}
